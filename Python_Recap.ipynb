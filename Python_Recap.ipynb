{
  "nbformat": 4,
  "nbformat_minor": 0,
  "metadata": {
    "colab": {
      "provenance": [],
      "collapsed_sections": []
    },
    "kernelspec": {
      "name": "python3",
      "display_name": "Python 3"
    },
    "language_info": {
      "name": "python"
    }
  },
  "cells": [
    {
      "cell_type": "markdown",
      "source": [
        "Python has five standard data types.\n",
        "\n",
        "\n",
        "1.   Numbers\n",
        "2.   Strings\n",
        "3.   Tuple\n",
        "4.   List\n",
        "5.   Dictionaries\n",
        "\n",
        "\n",
        "\n",
        "\n",
        "\n",
        "\n"
      ],
      "metadata": {
        "id": "mu7iNGflC9A3"
      }
    },
    {
      "cell_type": "code",
      "execution_count": null,
      "metadata": {
        "id": "l8o4UKxjCOhe"
      },
      "outputs": [],
      "source": [
        "#assigning values to variables\n",
        "name = 'Ann'\n",
        "no_stu = 150\n",
        "temp = 13.98\n",
        "print(name)\n",
        "print(no_stu)\n",
        "print(temp)\n"
      ]
    },
    {
      "cell_type": "code",
      "source": [
        "#List\n",
        "List_1 = [1,2,3,4,5,6,7,8,9,10]\n",
        "List_2 = list(range(0,20))\n",
        "List_3 = [x for x in range(10)]\n",
        "print(List_1);\n",
        "print(List_2)\n",
        "print(List_3)"
      ],
      "metadata": {
        "id": "szwWZPpWC3yk"
      },
      "execution_count": null,
      "outputs": []
    },
    {
      "cell_type": "code",
      "source": [
        "l1 = [1,2,3]\n",
        "l2 = list(range(0,30))\n",
        "l3 = [z for z in range(15)]\n",
        "print(l1)\n",
        "print(l2)\n",
        "print(l3)"
      ],
      "metadata": {
        "id": "3bNOKjo0iFDx"
      },
      "execution_count": null,
      "outputs": []
    },
    {
      "cell_type": "code",
      "source": [
        "\n",
        "#Loops\n",
        "#print the odd numbers in  List_1\n",
        "for i in List_1:\n",
        "  if i%2 != 0:\n",
        "    print(i)"
      ],
      "metadata": {
        "id": "AuSZFUnuGLcS"
      },
      "execution_count": null,
      "outputs": []
    },
    {
      "cell_type": "code",
      "source": [
        "#print odd numbers in l1\n",
        "for a in l2:\n",
        "  if a%2 ==1:\n",
        "    print(a)"
      ],
      "metadata": {
        "id": "oJqmtMg6ipVm"
      },
      "execution_count": null,
      "outputs": []
    },
    {
      "cell_type": "code",
      "source": [
        "#print the even numbers in List_2\n",
        "for a in List_2:\n",
        "  if a%2 == 0:\n",
        "    print(a)\n"
      ],
      "metadata": {
        "id": "QTc_wLZoHFK7"
      },
      "execution_count": null,
      "outputs": []
    },
    {
      "cell_type": "code",
      "source": [
        "#while loop\n",
        "k = 0;\n",
        "while k < len(List_3):\n",
        "  if List_3[k] %2 != 0:\n",
        "    print (List_3[k])\n",
        "  k+=1"
      ],
      "metadata": {
        "id": "x5eahu81HoIG"
      },
      "execution_count": null,
      "outputs": []
    },
    {
      "cell_type": "code",
      "source": [
        "u = 0;\n",
        "while u < len(l2):\n",
        "  if l2[u] %2 != 0:\n",
        "    print(l2[u])\n",
        "  u+=1\n"
      ],
      "metadata": {
        "id": "1FKOcbqrjgnT"
      },
      "execution_count": null,
      "outputs": []
    },
    {
      "cell_type": "code",
      "source": [
        "#list comprehensions to return a list\n",
        "l4 = [z for z in l3 if z%2 != 0]\n",
        "print(l4)\n",
        "\n"
      ],
      "metadata": {
        "colab": {
          "base_uri": "https://localhost:8080/"
        },
        "id": "dlTLrN7dk2Yt",
        "outputId": "467ff07a-d93a-41a5-ee82-6743b69a1095"
      },
      "execution_count": 11,
      "outputs": [
        {
          "output_type": "stream",
          "name": "stdout",
          "text": [
            "[1, 3, 5, 7, 9, 11, 13]\n"
          ]
        }
      ]
    },
    {
      "cell_type": "code",
      "source": [
        "l5 = [x for x in [x**2 for x in range(7)] if x%2 !=0]\n",
        "print(l5)"
      ],
      "metadata": {
        "colab": {
          "base_uri": "https://localhost:8080/"
        },
        "id": "EIh5ae0qnR7j",
        "outputId": "db7d30de-1ba4-427c-ff4f-61199e0ba85f"
      },
      "execution_count": 12,
      "outputs": [
        {
          "output_type": "stream",
          "name": "stdout",
          "text": [
            "[1, 9, 25]\n"
          ]
        }
      ]
    },
    {
      "cell_type": "code",
      "source": [
        "ls7 = [x**2 for x in range(10)]\n",
        "print(ls7)"
      ],
      "metadata": {
        "colab": {
          "base_uri": "https://localhost:8080/"
        },
        "id": "d7URRW54nx-y",
        "outputId": "c7524994-42ae-44fe-8db6-2b2a266d7895"
      },
      "execution_count": 15,
      "outputs": [
        {
          "output_type": "stream",
          "name": "stdout",
          "text": [
            "[0, 1, 4, 9, 16, 25, 36, 49, 64, 81]\n"
          ]
        }
      ]
    },
    {
      "cell_type": "code",
      "source": [
        "l6 = [z for z in [z **2 for z in range(10)] if z%2 !=0]\n",
        "print(l6)"
      ],
      "metadata": {
        "colab": {
          "base_uri": "https://localhost:8080/"
        },
        "id": "NsfT8UDJniqB",
        "outputId": "09321693-9b81-4cf4-e787-510d73856014"
      },
      "execution_count": 13,
      "outputs": [
        {
          "output_type": "stream",
          "name": "stdout",
          "text": [
            "[1, 9, 25, 49, 81]\n"
          ]
        }
      ]
    },
    {
      "cell_type": "code",
      "source": [
        "ls8 = [v for v in ls7 if v%2 !=0]\n",
        "print(ls8)"
      ],
      "metadata": {
        "colab": {
          "base_uri": "https://localhost:8080/"
        },
        "id": "m-0c6D9Pokyx",
        "outputId": "875c6103-483b-4965-9d5c-c97797eb43e8"
      },
      "execution_count": 16,
      "outputs": [
        {
          "output_type": "stream",
          "name": "stdout",
          "text": [
            "[1, 9, 25, 49, 81]\n"
          ]
        }
      ]
    },
    {
      "cell_type": "code",
      "source": [
        "fruits = [\"apple\", \"banana\", \"cherry\", \"kiwi\", \"mango\"]\n",
        "newlist = [f for f in fruits if \"a\" in f]\n",
        "print(newlist)"
      ],
      "metadata": {
        "colab": {
          "base_uri": "https://localhost:8080/"
        },
        "id": "IVG3Mwe8vX9F",
        "outputId": "b2903c6b-2149-44d9-f8ca-01ddd935b6a1"
      },
      "execution_count": 18,
      "outputs": [
        {
          "output_type": "stream",
          "name": "stdout",
          "text": [
            "['apple', 'banana', 'mango']\n"
          ]
        }
      ]
    },
    {
      "cell_type": "code",
      "source": [
        "nlist = [x for x in range(10) if x < 5]\n",
        "print(nlist)"
      ],
      "metadata": {
        "colab": {
          "base_uri": "https://localhost:8080/"
        },
        "id": "4C5xZ-e0vwzg",
        "outputId": "70428660-9255-48cd-e9e0-85f95de511c4"
      },
      "execution_count": 21,
      "outputs": [
        {
          "output_type": "stream",
          "name": "stdout",
          "text": [
            "[0, 1, 2, 3, 4]\n"
          ]
        }
      ]
    },
    {
      "cell_type": "code",
      "source": [
        "#The expression is the current item in the iteration, but it is also the outcome,\n",
        "# which you can manipulate before it ends up like a list item in the new list:\n",
        "\n",
        "nel = [x.upper() for x in fruits]\n",
        "print(nel)"
      ],
      "metadata": {
        "colab": {
          "base_uri": "https://localhost:8080/"
        },
        "id": "rRYH6gDfxcb1",
        "outputId": "285df456-a920-424b-d22a-fe1e9427b562"
      },
      "execution_count": 23,
      "outputs": [
        {
          "output_type": "stream",
          "name": "stdout",
          "text": [
            "['APPLE', 'BANANA', 'CHERRY', 'KIWI', 'MANGO']\n"
          ]
        }
      ]
    },
    {
      "cell_type": "code",
      "source": [
        "#The expression can also contain conditions, not like a filter, but as a way to manipulate the outcome\n",
        "newli = [x if x != \"banana\" else \"orange\" for x in fruits]\n",
        "print(newli)"
      ],
      "metadata": {
        "colab": {
          "base_uri": "https://localhost:8080/"
        },
        "id": "3pVnCYQmxtj6",
        "outputId": "81227de4-f0bb-45b3-d395-f02fdbbbb0e7"
      },
      "execution_count": 25,
      "outputs": [
        {
          "output_type": "stream",
          "name": "stdout",
          "text": [
            "['apple', 'orange', 'cherry', 'kiwi', 'mango']\n"
          ]
        }
      ]
    },
    {
      "cell_type": "code",
      "source": [
        "#functions\n",
        "def myfunction():\n",
        "  print(\"Hello this is myfunction result.\")\n",
        "\n",
        "#calling to a function\n",
        "myfunction();"
      ],
      "metadata": {
        "colab": {
          "base_uri": "https://localhost:8080/"
        },
        "id": "NT6th3xvzFEk",
        "outputId": "73a59cbb-7d10-46b8-fda2-dc5e0b596455"
      },
      "execution_count": 26,
      "outputs": [
        {
          "output_type": "stream",
          "name": "stdout",
          "text": [
            "Hello this is myfunction result.\n"
          ]
        }
      ]
    },
    {
      "cell_type": "code",
      "source": [
        "def myName(fname):\n",
        "  print(fname + \" Peiris\")\n",
        "\n",
        "#calling function\n",
        "myName(\"Ironi\")\n",
        "myName(\"Jane\")\n",
        "myName(\"Sam\")"
      ],
      "metadata": {
        "colab": {
          "base_uri": "https://localhost:8080/"
        },
        "id": "irUFicw50Tg-",
        "outputId": "a26f9885-ce8b-44f3-fe80-68530a617872"
      },
      "execution_count": 30,
      "outputs": [
        {
          "output_type": "stream",
          "name": "stdout",
          "text": [
            "Ironi Peiris\n",
            "Jane Peiris\n",
            "Sam Peiris\n"
          ]
        }
      ]
    },
    {
      "cell_type": "code",
      "source": [
        "#A parameter is the variable listed inside the parentheses in the function definition.\n",
        "\n",
        "#An argument is the value that is sent to the function when it is called."
      ],
      "metadata": {
        "id": "QHHxKb0EBBeE"
      },
      "execution_count": null,
      "outputs": []
    },
    {
      "cell_type": "code",
      "source": [
        "def makeListofOddNum(n):\n",
        "  li1 =[x for x in [x**2 for x in range(n)] if x%2 !=0];\n",
        "  print(li1)\n"
      ],
      "metadata": {
        "id": "my_TWl3ABI_b"
      },
      "execution_count": 32,
      "outputs": []
    },
    {
      "cell_type": "code",
      "source": [
        "makeListofOddNum(5)"
      ],
      "metadata": {
        "colab": {
          "base_uri": "https://localhost:8080/"
        },
        "id": "vaVHA6CPJfpq",
        "outputId": "d25054c0-615c-47f4-f873-a37707da51b4"
      },
      "execution_count": 33,
      "outputs": [
        {
          "output_type": "stream",
          "name": "stdout",
          "text": [
            "[1, 9]\n"
          ]
        }
      ]
    },
    {
      "cell_type": "code",
      "source": [
        "a = ['I','like','cookies']\n",
        "b = [i if i != \"cookies\" else \"apples\" for i in a]\n",
        "print(a)\n",
        "print(b)"
      ],
      "metadata": {
        "colab": {
          "base_uri": "https://localhost:8080/"
        },
        "id": "Yy4k5vdAJ55y",
        "outputId": "1a95b2ed-dbe2-42ec-da9e-f1326553aa8e"
      },
      "execution_count": 36,
      "outputs": [
        {
          "output_type": "stream",
          "name": "stdout",
          "text": [
            "['I', 'like', 'cookies']\n",
            "['I', 'like', 'apples']\n"
          ]
        }
      ]
    },
    {
      "cell_type": "code",
      "source": [
        "d1 = {x : x**2 for x in range(7)}\n",
        "print(d1)"
      ],
      "metadata": {
        "colab": {
          "base_uri": "https://localhost:8080/"
        },
        "id": "cNkuuxZRLsTO",
        "outputId": "49bd794d-73c0-494c-f5fe-bb5e368637b1"
      },
      "execution_count": 37,
      "outputs": [
        {
          "output_type": "stream",
          "name": "stdout",
          "text": [
            "{0: 0, 1: 1, 2: 4, 3: 9, 4: 16, 5: 25, 6: 36}\n"
          ]
        }
      ]
    },
    {
      "cell_type": "code",
      "source": [
        "vals=list(d1.values())\n",
        "vals\n"
      ],
      "metadata": {
        "colab": {
          "base_uri": "https://localhost:8080/"
        },
        "id": "moK5Oe8RM1KU",
        "outputId": "3f240eda-33c1-4ed8-ff4e-7debd2cb541c"
      },
      "execution_count": 38,
      "outputs": [
        {
          "output_type": "execute_result",
          "data": {
            "text/plain": [
              "[0, 1, 4, 9, 16, 25, 36]"
            ]
          },
          "metadata": {},
          "execution_count": 38
        }
      ]
    },
    {
      "cell_type": "code",
      "source": [
        "a = [0,1,2,3,4,5]\n",
        "a[::-1]\n",
        "\n"
      ],
      "metadata": {
        "colab": {
          "base_uri": "https://localhost:8080/"
        },
        "id": "BCTfxYBCNHeV",
        "outputId": "896d018d-a44f-477d-8904-e5fa44e51fbb"
      },
      "execution_count": 43,
      "outputs": [
        {
          "output_type": "execute_result",
          "data": {
            "text/plain": [
              "[5, 4, 3, 2, 1, 0]"
            ]
          },
          "metadata": {},
          "execution_count": 43
        }
      ]
    },
    {
      "cell_type": "code",
      "source": [
        "xcoors=[0,1,2,3,4,5]\n",
        "ycoors=[6,7,8,9,10,11]\n",
        "zipped = zip(xcoors,ycoors)\n",
        "zippedOne = list(zipped)\n",
        "print(zippedOne)"
      ],
      "metadata": {
        "colab": {
          "base_uri": "https://localhost:8080/"
        },
        "id": "jgvHEmOANXpu",
        "outputId": "dee66690-f1ec-4f28-cd05-1b455eca9114"
      },
      "execution_count": 45,
      "outputs": [
        {
          "output_type": "stream",
          "name": "stdout",
          "text": [
            "[(0, 6), (1, 7), (2, 8), (3, 9), (4, 10), (5, 11)]\n"
          ]
        }
      ]
    },
    {
      "cell_type": "code",
      "source": [
        "xcoors = [0,1,2,3,4,5] \n",
        "ycoors = [6,7,8,9,10,11]\n",
        "zcoors = [99, 98, 97, 96, 95, 94]\n",
        "zip_list=list(zip(xcoors,ycoors, zcoors))\n",
        "print(zip_list)\n"
      ],
      "metadata": {
        "colab": {
          "base_uri": "https://localhost:8080/"
        },
        "id": "a6uuFz3yN-hX",
        "outputId": "e9e4fdc7-cdc0-4b24-f86a-c52d164680df"
      },
      "execution_count": 47,
      "outputs": [
        {
          "output_type": "stream",
          "name": "stdout",
          "text": [
            "[(0, 6, 99), (1, 7, 98), (2, 8, 97), (3, 9, 96), (4, 10, 95), (5, 11, 94)]\n"
          ]
        }
      ]
    },
    {
      "cell_type": "code",
      "source": [
        "chocage = [(20,8), (33,18), (27,14), (66,23), (90,100)]\n",
        "unzip_list=list(zip(*chocage))\n",
        "print(unzip_list)\n"
      ],
      "metadata": {
        "colab": {
          "base_uri": "https://localhost:8080/"
        },
        "id": "_hhVyRrjOHcY",
        "outputId": "c168a128-8d0e-4531-bb73-e8806ffc8917"
      },
      "execution_count": 49,
      "outputs": [
        {
          "output_type": "stream",
          "name": "stdout",
          "text": [
            "[(20, 33, 27, 66, 90), (8, 18, 14, 23, 100)]\n"
          ]
        }
      ]
    }
  ]
}